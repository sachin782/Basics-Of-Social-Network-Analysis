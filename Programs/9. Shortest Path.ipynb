{
 "cells": [
  {
   "cell_type": "markdown",
   "metadata": {},
   "source": [
    "# Shortest Path in Graph"
   ]
  },
  {
   "cell_type": "code",
   "execution_count": 1,
   "metadata": {},
   "outputs": [],
   "source": [
    "import networkx as nx\n",
    "import matplotlib.pyplot as plt"
   ]
  },
  {
   "cell_type": "code",
   "execution_count": 2,
   "metadata": {},
   "outputs": [
    {
     "name": "stderr",
     "output_type": "stream",
     "text": [
      "C:\\Users\\Sachin\\Anaconda3\\lib\\site-packages\\networkx\\drawing\\nx_pylab.py:579: MatplotlibDeprecationWarning: \n",
      "The iterable function was deprecated in Matplotlib 3.1 and will be removed in 3.3. Use np.iterable instead.\n",
      "  if not cb.iterable(width):\n"
     ]
    },
    {
     "data": {
      "image/png": "[encoded data removed]",
      "text/plain": [
       "<Figure size 432x288 with 1 Axes>"
      ]
     },
     "metadata": {},
     "output_type": "display_data"
    }
   ],
   "source": [
    "G=nx.Graph()\n",
    "G.add_edge(1,2,weight=2)\n",
    "G.add_edge(2,1,weight=3)\n",
    "G.add_edge(2,3,weight=4)\n",
    "G.add_edge(3,2,weight=1)\n",
    "G.add_edge(1,3,weight=2)\n",
    "G.add_edge(3,1,weight=5)\n",
    "G.add_edge(1,4,weight=3)\n",
    "G.add_edge(4,1,weight=1)\n",
    "G.add_edge(3,5,weight=6)\n",
    "G.add_edge(5,3,weight=8)\n",
    "G.add_edge(4,5,weight=1)\n",
    "G.add_edge(5,4,weight=3)\n",
    "weight=nx.get_edge_attributes(G,'weight')\n",
    "pos=nx.circular_layout(G) \n",
    "nx.draw(G,pos,with_labels=True) \n",
    "nx.draw_networkx_edge_labels(G,pos,edge_labels=weight)\n",
    "plt.show()"
   ]
  },
  {
   "cell_type": "code",
   "execution_count": 3,
   "metadata": {},
   "outputs": [
    {
     "data": {
      "text/plain": [
       "EdgeDataView([(1, 2, {'weight': 3}), (1, 3, {'weight': 5}), (1, 4, {'weight': 1}), (2, 3, {'weight': 1}), (3, 5, {'weight': 8}), (4, 5, {'weight': 3})])"
      ]
     },
     "execution_count": 3,
     "metadata": {},
     "output_type": "execute_result"
    }
   ],
   "source": [
    "G.edges(data=True)"
   ]
  },
  {
   "cell_type": "code",
   "execution_count": 4,
   "metadata": {},
   "outputs": [],
   "source": [
    "def shortest_path_betweeness(G,s,d):\n",
    "    bc = nx.betweenness_centrality(G,weight = 'weight') \n",
    "    shortest_path=[]\n",
    "    n = len(G.nodes())\n",
    "    r=0\n",
    "    for path in nx.all_simple_paths(G, source=s, target=d):\n",
    "        c=0\n",
    "        if(len(path)==2):\n",
    "            shortest_path=path\n",
    "            break\n",
    "        else:\n",
    "            for j in range(1,len(path)-1):\n",
    "                c=c+bc[path[j]]\n",
    "            c=c/(len(path)-2)\n",
    "            if c>=r:\n",
    "                r=c\n",
    "                shortest_path=path\n",
    "    return shortest_path"
   ]
  },
  {
   "cell_type": "code",
   "execution_count": 5,
   "metadata": {},
   "outputs": [
    {
     "name": "stdout",
     "output_type": "stream",
     "text": [
      "Enter source node number:2\n",
      "Enter destination node number:5\n",
      "Shortest path using betweeness centrality: [2, 1, 4, 5]\n",
      "Shortest path using Dijkstra's algorithm: [2, 1, 4, 5]\n"
     ]
    }
   ],
   "source": [
    "s = int(input(\"Enter source node number:\"))\n",
    "d = int(input(\"Enter destination node number:\"))\n",
    "print(\"Shortest path using betweeness centrality:\",shortest_path_betweeness(G,s,d))\n",
    "print(\"Shortest path using Dijkstra's algorithm:\",nx.dijkstra_path(G,s,d,weight='weight'))"
   ]
  },
  {
   "cell_type": "code",
   "execution_count": 6,
   "metadata": {},
   "outputs": [
    {
     "name": "stdout",
     "output_type": "stream",
     "text": [
      "Shortest path using betweeness centrality:\n",
      "\n",
      "Source\tDestination\t\tPath\n",
      "1 \t 2 \t\t [1, 2]\n",
      "1 \t 3 \t\t [1, 3]\n",
      "1 \t 4 \t\t [1, 4]\n",
      "1 \t 5 \t\t [1, 4, 5]\n",
      "2 \t 1 \t\t [2, 1]\n",
      "2 \t 3 \t\t [2, 3]\n",
      "2 \t 4 \t\t [2, 1, 4]\n",
      "2 \t 5 \t\t [2, 1, 4, 5]\n",
      "3 \t 1 \t\t [3, 1]\n",
      "3 \t 2 \t\t [3, 2]\n",
      "3 \t 4 \t\t [3, 1, 4]\n",
      "3 \t 5 \t\t [3, 5]\n",
      "4 \t 1 \t\t [4, 1]\n",
      "4 \t 2 \t\t [4, 1, 2]\n",
      "4 \t 3 \t\t [4, 1, 3]\n",
      "4 \t 5 \t\t [4, 5]\n",
      "5 \t 1 \t\t [5, 4, 1]\n",
      "5 \t 2 \t\t [5, 4, 1, 2]\n",
      "5 \t 3 \t\t [5, 3]\n",
      "5 \t 4 \t\t [5, 4]\n"
     ]
    }
   ],
   "source": [
    "print(\"Shortest path using betweeness centrality:\\n\")\n",
    "print(\"Source\\tDestination\\t\\tPath\")\n",
    "for i in range(1,6):\n",
    "    for j in range(1,6):\n",
    "        if i != j:\n",
    "            print(i,\"\\t\",j,\"\\t\\t\",shortest_path_betweeness(G,i,j))"
   ]
  },
  {
   "cell_type": "code",
   "execution_count": 7,
   "metadata": {},
   "outputs": [
    {
     "name": "stdout",
     "output_type": "stream",
     "text": [
      "Shortest path using Dijkstra's algorithm:\n",
      "\n",
      "Source\tDestination\t\tPath\n",
      "1 \t 2 \t\t [1, 2]\n",
      "1 \t 3 \t\t [1, 2, 3]\n",
      "1 \t 4 \t\t [1, 4]\n",
      "1 \t 5 \t\t [1, 4, 5]\n",
      "2 \t 1 \t\t [2, 1]\n",
      "2 \t 3 \t\t [2, 3]\n",
      "2 \t 4 \t\t [2, 1, 4]\n",
      "2 \t 5 \t\t [2, 1, 4, 5]\n",
      "3 \t 1 \t\t [3, 2, 1]\n",
      "3 \t 2 \t\t [3, 2]\n",
      "3 \t 4 \t\t [3, 2, 1, 4]\n",
      "3 \t 5 \t\t [3, 5]\n",
      "4 \t 1 \t\t [4, 1]\n",
      "4 \t 2 \t\t [4, 1, 2]\n",
      "4 \t 3 \t\t [4, 1, 2, 3]\n",
      "4 \t 5 \t\t [4, 5]\n",
      "5 \t 1 \t\t [5, 4, 1]\n",
      "5 \t 2 \t\t [5, 4, 1, 2]\n",
      "5 \t 3 \t\t [5, 3]\n",
      "5 \t 4 \t\t [5, 4]\n"
     ]
    }
   ],
   "source": [
    "print(\"Shortest path using Dijkstra's algorithm:\\n\")\n",
    "print(\"Source\\tDestination\\t\\tPath\")\n",
    "for i in range(1,6):\n",
    "    for j in range(1,6):\n",
    "        if i != j:\n",
    "            print(i,\"\\t\",j,\"\\t\\t\",nx.dijkstra_path(G,i,j))"
   ]
  }
 ],
 "metadata": {
  "kernelspec": {
   "display_name": "Python 3",
   "language": "python",
   "name": "python3"
  },
  "language_info": {
   "codemirror_mode": {
    "name": "ipython",
    "version": 3
   },
   "file_extension": ".py",
   "mimetype": "text/x-python",
   "name": "python",
   "nbconvert_exporter": "python",
   "pygments_lexer": "ipython3",
   "version": "3.7.3"
  }
 },
 "nbformat": 4,
 "nbformat_minor": 2
}
