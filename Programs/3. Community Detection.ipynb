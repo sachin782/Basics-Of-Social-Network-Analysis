{
 "cells": [
  {
   "cell_type": "markdown",
   "metadata": {},
   "source": [
    "# Community Detection "
   ]
  },
  {
   "cell_type": "code",
   "execution_count": 1,
   "metadata": {},
   "outputs": [],
   "source": [
    "import networkx as nx\n",
    "import matplotlib.pyplot as plt\n",
    "import numpy as np\n",
    "import itertools"
   ]
  },
  {
   "cell_type": "code",
   "execution_count": 2,
   "metadata": {},
   "outputs": [
    {
     "name": "stdout",
     "output_type": "stream",
     "text": [
      "(1, 2)\n",
      "(1, 3)\n",
      "(1, 4)\n",
      "(2, 3)\n",
      "(2, 4)\n",
      "(3, 4)\n"
     ]
    }
   ],
   "source": [
    "iter=itertools.combinations([1,2,3,4],2)\n",
    "for i in iter:\n",
    "    print(i)"
   ]
  },
  {
   "cell_type": "code",
   "execution_count": 3,
   "metadata": {},
   "outputs": [
    {
     "name": "stdout",
     "output_type": "stream",
     "text": [
      "(1, 2, 3)\n",
      "(1, 2, 4)\n",
      "(1, 3, 4)\n",
      "(2, 3, 4)\n"
     ]
    }
   ],
   "source": [
    "iter=itertools.combinations([1,2,3,4],3)\n",
    "for i in iter:\n",
    "    print(i)"
   ]
  },
  {
   "cell_type": "code",
   "execution_count": 4,
   "metadata": {},
   "outputs": [
    {
     "name": "stderr",
     "output_type": "stream",
     "text": [
      "C:\\Users\\Sachin\\Anaconda3\\lib\\site-packages\\networkx\\drawing\\nx_pylab.py:579: MatplotlibDeprecationWarning: \n",
      "The iterable function was deprecated in Matplotlib 3.1 and will be removed in 3.3. Use np.iterable instead.\n",
      "  if not cb.iterable(width):\n"
     ]
    },
    {
     "data": {
      "image/png": "[encoded data removed]",
      "text/plain": [
       "<Figure size 432x288 with 1 Axes>"
      ]
     },
     "metadata": {},
     "output_type": "display_data"
    }
   ],
   "source": [
    "G=nx.Graph()\n",
    "G.add_edge(1,2)\n",
    "G.add_edge(1,3)\n",
    "G.add_edge(2,3)\n",
    "G.add_edge(2,4)\n",
    "G.add_edge(4,5)\n",
    "G.add_edge(4,6)\n",
    "G.add_edge(5,6)\n",
    "nx.draw(G,with_labels=1)\n",
    "plt.show()"
   ]
  },
  {
   "cell_type": "code",
   "execution_count": 5,
   "metadata": {},
   "outputs": [
    {
     "name": "stdout",
     "output_type": "stream",
     "text": [
      "First community: [[1], [2], [3], [4], [5], [6], [1, 2], [1, 3], [1, 4], [1, 5], [1, 6], [2, 3], [2, 4], [2, 5], [2, 6], [3, 4], [3, 5], [3, 6], [4, 5], [4, 6], [5, 6], [1, 2, 3], [1, 2, 4], [1, 2, 5], [1, 2, 6], [1, 3, 4], [1, 3, 5], [1, 3, 6], [1, 4, 5], [1, 4, 6], [1, 5, 6], [2, 3, 4], [2, 3, 5], [2, 3, 6], [2, 4, 5], [2, 4, 6], [2, 5, 6], [3, 4, 5], [3, 4, 6], [3, 5, 6], [4, 5, 6]]\n",
      "Length of first community 41\n"
     ]
    }
   ],
   "source": [
    "first_community=[]\n",
    "n=G.number_of_nodes()\n",
    "m=int(n/2)\n",
    "nodes=G.nodes()\n",
    "for i in range(1,m+1):\n",
    "    comb=[list(x) for x in itertools.combinations(nodes,i)]\n",
    "    first_community.extend(comb)\n",
    "print(\"First community:\",first_community)\n",
    "print(\"Length of first community\",len(first_community))"
   ]
  },
  {
   "cell_type": "code",
   "execution_count": 6,
   "metadata": {},
   "outputs": [
    {
     "name": "stdout",
     "output_type": "stream",
     "text": [
      "Second community: [[2, 3, 4, 5, 6], [1, 3, 4, 5, 6], [1, 2, 4, 5, 6], [1, 2, 3, 5, 6], [1, 2, 3, 4, 6], [1, 2, 3, 4, 5], [3, 4, 5, 6], [2, 4, 5, 6], [2, 3, 5, 6], [2, 3, 4, 6], [2, 3, 4, 5], [1, 4, 5, 6], [1, 3, 5, 6], [1, 3, 4, 6], [1, 3, 4, 5], [1, 2, 5, 6], [1, 2, 4, 6], [1, 2, 4, 5], [1, 2, 3, 6], [1, 2, 3, 5], [1, 2, 3, 4], [4, 5, 6], [3, 5, 6], [3, 4, 6], [3, 4, 5], [2, 5, 6], [2, 4, 6], [2, 4, 5], [2, 3, 6], [2, 3, 5], [2, 3, 4], [1, 5, 6], [1, 4, 6], [1, 4, 5], [1, 3, 6], [1, 3, 5], [1, 3, 4], [1, 2, 6], [1, 2, 5], [1, 2, 4], [1, 2, 3]]\n",
      "Length of second community 41\n"
     ]
    }
   ],
   "source": [
    "second_community=[]\n",
    "for i in range(0,len(first_community)):\n",
    "    l=list(set(nodes)-set(first_community[i]))\n",
    "    second_community.append(l)\n",
    "print(\"Second community:\",second_community)\n",
    "print(\"Length of second community\",len(second_community))"
   ]
  },
  {
   "cell_type": "code",
   "execution_count": 7,
   "metadata": {},
   "outputs": [],
   "source": [
    "#print(\"Type:\",type(first_community))\n",
    "#first_community.sort()\n",
    "#print(\"First community:\",first_community)"
   ]
  },
  {
   "cell_type": "code",
   "execution_count": 8,
   "metadata": {},
   "outputs": [],
   "source": [
    "#print(\"Type:\",type(second_community))\n",
    "#second_community.sort()\n",
    "#print(\"Second community:\",second_community)"
   ]
  },
  {
   "cell_type": "code",
   "execution_count": 9,
   "metadata": {},
   "outputs": [
    {
     "name": "stdout",
     "output_type": "stream",
     "text": [
      "0\n"
     ]
    },
    {
     "data": {
      "image/png": "[encoded data removed]",
      "text/plain": [
       "<Figure size 432x288 with 1 Axes>"
      ]
     },
     "metadata": {},
     "output_type": "display_data"
    }
   ],
   "source": [
    "H=G.subgraph(2)\n",
    "H=G.subgraph(4)\n",
    "l1=H.subgraph(4).number_of_edges()\n",
    "print(l1)\n",
    "nx.draw(H,with_labels=1)\n",
    "plt.show()"
   ]
  },
  {
   "cell_type": "code",
   "execution_count": 10,
   "metadata": {},
   "outputs": [
    {
     "name": "stdout",
     "output_type": "stream",
     "text": [
      "Subgraph:  [1]\n",
      "Number of edges in subgraph:  0\n",
      "Subgraph:  [2]\n",
      "Number of edges in subgraph:  0\n",
      "Subgraph:  [3]\n",
      "Number of edges in subgraph:  0\n",
      "Subgraph:  [4]\n",
      "Number of edges in subgraph:  0\n",
      "Subgraph:  [5]\n",
      "Number of edges in subgraph:  0\n",
      "Subgraph:  [6]\n",
      "Number of edges in subgraph:  0\n",
      "Subgraph:  [1, 2]\n",
      "Number of edges in subgraph:  1\n",
      "Subgraph:  [1, 3]\n",
      "Number of edges in subgraph:  1\n",
      "Subgraph:  [1, 4]\n",
      "Number of edges in subgraph:  0\n",
      "Subgraph:  [1, 5]\n",
      "Number of edges in subgraph:  0\n",
      "Subgraph:  [1, 6]\n",
      "Number of edges in subgraph:  0\n",
      "Subgraph:  [2, 3]\n",
      "Number of edges in subgraph:  1\n",
      "Subgraph:  [2, 4]\n",
      "Number of edges in subgraph:  1\n",
      "Subgraph:  [2, 5]\n",
      "Number of edges in subgraph:  0\n",
      "Subgraph:  [2, 6]\n",
      "Number of edges in subgraph:  0\n",
      "Subgraph:  [3, 4]\n",
      "Number of edges in subgraph:  0\n",
      "Subgraph:  [3, 5]\n",
      "Number of edges in subgraph:  0\n",
      "Subgraph:  [3, 6]\n",
      "Number of edges in subgraph:  0\n",
      "Subgraph:  [4, 5]\n",
      "Number of edges in subgraph:  1\n",
      "Subgraph:  [4, 6]\n",
      "Number of edges in subgraph:  1\n",
      "Subgraph:  [5, 6]\n",
      "Number of edges in subgraph:  1\n",
      "Subgraph:  [1, 2, 3]\n",
      "Number of edges in subgraph:  3\n",
      "Subgraph:  [1, 2, 4]\n",
      "Number of edges in subgraph:  2\n",
      "Subgraph:  [1, 2, 5]\n",
      "Number of edges in subgraph:  1\n",
      "Subgraph:  [1, 2, 6]\n",
      "Number of edges in subgraph:  1\n",
      "Subgraph:  [1, 3, 4]\n",
      "Number of edges in subgraph:  1\n",
      "Subgraph:  [1, 3, 5]\n",
      "Number of edges in subgraph:  1\n",
      "Subgraph:  [1, 3, 6]\n",
      "Number of edges in subgraph:  1\n",
      "Subgraph:  [1, 4, 5]\n",
      "Number of edges in subgraph:  1\n",
      "Subgraph:  [1, 4, 6]\n",
      "Number of edges in subgraph:  1\n",
      "Subgraph:  [1, 5, 6]\n",
      "Number of edges in subgraph:  1\n",
      "Subgraph:  [2, 3, 4]\n",
      "Number of edges in subgraph:  2\n",
      "Subgraph:  [2, 3, 5]\n",
      "Number of edges in subgraph:  1\n",
      "Subgraph:  [2, 3, 6]\n",
      "Number of edges in subgraph:  1\n",
      "Subgraph:  [2, 4, 5]\n",
      "Number of edges in subgraph:  2\n",
      "Subgraph:  [2, 4, 6]\n",
      "Number of edges in subgraph:  2\n",
      "Subgraph:  [2, 5, 6]\n",
      "Number of edges in subgraph:  1\n",
      "Subgraph:  [3, 4, 5]\n",
      "Number of edges in subgraph:  1\n",
      "Subgraph:  [3, 4, 6]\n",
      "Number of edges in subgraph:  1\n",
      "Subgraph:  [3, 5, 6]\n",
      "Number of edges in subgraph:  1\n",
      "Subgraph:  [4, 5, 6]\n",
      "Number of edges in subgraph:  3\n"
     ]
    }
   ],
   "source": [
    "num_intra_edges1=[]\n",
    "for i in range(len(first_community)):\n",
    "    print(\"Subgraph: \", list(G.subgraph(first_community[i])))\n",
    "    print(\"Number of edges in subgraph: \",G.subgraph(first_community[i]).number_of_edges())\n",
    "    num_intra_edges1.append(G.subgraph(first_community[i]).number_of_edges())"
   ]
  },
  {
   "cell_type": "code",
   "execution_count": 11,
   "metadata": {},
   "outputs": [
    {
     "name": "stdout",
     "output_type": "stream",
     "text": [
      "Subgraph:  [2, 3, 4, 5, 6]\n",
      "Number of edges in subgraph =  5\n",
      "Subgraph:  [1, 3, 4, 5, 6]\n",
      "Number of edges in subgraph =  4\n",
      "Subgraph:  [1, 2, 4, 5, 6]\n",
      "Number of edges in subgraph =  5\n",
      "Subgraph:  [1, 2, 3, 5, 6]\n",
      "Number of edges in subgraph =  4\n",
      "Subgraph:  [1, 2, 3, 4, 6]\n",
      "Number of edges in subgraph =  5\n",
      "Subgraph:  [1, 2, 3, 4, 5]\n",
      "Number of edges in subgraph =  5\n",
      "Subgraph:  [3, 4, 5, 6]\n",
      "Number of edges in subgraph =  3\n",
      "Subgraph:  [2, 4, 5, 6]\n",
      "Number of edges in subgraph =  4\n",
      "Subgraph:  [2, 3, 5, 6]\n",
      "Number of edges in subgraph =  2\n",
      "Subgraph:  [2, 3, 4, 6]\n",
      "Number of edges in subgraph =  3\n",
      "Subgraph:  [2, 3, 4, 5]\n",
      "Number of edges in subgraph =  3\n",
      "Subgraph:  [1, 4, 5, 6]\n",
      "Number of edges in subgraph =  3\n",
      "Subgraph:  [1, 3, 5, 6]\n",
      "Number of edges in subgraph =  2\n",
      "Subgraph:  [1, 3, 4, 6]\n",
      "Number of edges in subgraph =  2\n",
      "Subgraph:  [1, 3, 4, 5]\n",
      "Number of edges in subgraph =  2\n",
      "Subgraph:  [1, 2, 5, 6]\n",
      "Number of edges in subgraph =  2\n",
      "Subgraph:  [1, 2, 4, 6]\n",
      "Number of edges in subgraph =  3\n",
      "Subgraph:  [1, 2, 4, 5]\n",
      "Number of edges in subgraph =  3\n",
      "Subgraph:  [1, 2, 3, 6]\n",
      "Number of edges in subgraph =  3\n",
      "Subgraph:  [1, 2, 3, 5]\n",
      "Number of edges in subgraph =  3\n",
      "Subgraph:  [1, 2, 3, 4]\n",
      "Number of edges in subgraph =  4\n",
      "Subgraph:  [4, 5, 6]\n",
      "Number of edges in subgraph =  3\n",
      "Subgraph:  [3, 5, 6]\n",
      "Number of edges in subgraph =  1\n",
      "Subgraph:  [3, 4, 6]\n",
      "Number of edges in subgraph =  1\n",
      "Subgraph:  [3, 4, 5]\n",
      "Number of edges in subgraph =  1\n",
      "Subgraph:  [2, 5, 6]\n",
      "Number of edges in subgraph =  1\n",
      "Subgraph:  [2, 4, 6]\n",
      "Number of edges in subgraph =  2\n",
      "Subgraph:  [2, 4, 5]\n",
      "Number of edges in subgraph =  2\n",
      "Subgraph:  [2, 3, 6]\n",
      "Number of edges in subgraph =  1\n",
      "Subgraph:  [2, 3, 5]\n",
      "Number of edges in subgraph =  1\n",
      "Subgraph:  [2, 3, 4]\n",
      "Number of edges in subgraph =  2\n",
      "Subgraph:  [1, 5, 6]\n",
      "Number of edges in subgraph =  1\n",
      "Subgraph:  [1, 4, 6]\n",
      "Number of edges in subgraph =  1\n",
      "Subgraph:  [1, 4, 5]\n",
      "Number of edges in subgraph =  1\n",
      "Subgraph:  [1, 3, 6]\n",
      "Number of edges in subgraph =  1\n",
      "Subgraph:  [1, 3, 5]\n",
      "Number of edges in subgraph =  1\n",
      "Subgraph:  [1, 3, 4]\n",
      "Number of edges in subgraph =  1\n",
      "Subgraph:  [1, 2, 6]\n",
      "Number of edges in subgraph =  1\n",
      "Subgraph:  [1, 2, 5]\n",
      "Number of edges in subgraph =  1\n",
      "Subgraph:  [1, 2, 4]\n",
      "Number of edges in subgraph =  2\n",
      "Subgraph:  [1, 2, 3]\n",
      "Number of edges in subgraph =  3\n"
     ]
    }
   ],
   "source": [
    "num_intra_edges2=[]\n",
    "for i in range(len(second_community)):\n",
    "    print(\"Subgraph: \", list(G.subgraph(second_community[i])))\n",
    "    print(\"Number of edges in subgraph = \",G.subgraph(second_community[i]).number_of_edges())\n",
    "    num_intra_edges2.append(G.subgraph(second_community[i]).number_of_edges())"
   ]
  },
  {
   "cell_type": "code",
   "execution_count": 12,
   "metadata": {},
   "outputs": [
    {
     "name": "stdout",
     "output_type": "stream",
     "text": [
      "7\n"
     ]
    }
   ],
   "source": [
    "e = G.number_of_edges()\n",
    "print(e)"
   ]
  },
  {
   "cell_type": "code",
   "execution_count": 13,
   "metadata": {},
   "outputs": [
    {
     "name": "stdout",
     "output_type": "stream",
     "text": [
      "Edges 1: i:  0   0\n",
      "Edges 2: i:  0   5\n",
      "[2]\n",
      "Edges 1: i:  1   0\n",
      "Edges 2: i:  1   4\n",
      "[2, 3]\n",
      "Edges 1: i:  2   0\n",
      "Edges 2: i:  2   5\n",
      "[2, 3, 2]\n",
      "Edges 1: i:  3   0\n",
      "Edges 2: i:  3   4\n",
      "[2, 3, 2, 3]\n",
      "Edges 1: i:  4   0\n",
      "Edges 2: i:  4   5\n",
      "[2, 3, 2, 3, 2]\n",
      "Edges 1: i:  5   0\n",
      "Edges 2: i:  5   5\n",
      "[2, 3, 2, 3, 2, 2]\n",
      "Edges 1: i:  6   1\n",
      "Edges 2: i:  6   3\n",
      "[2, 3, 2, 3, 2, 2, 3]\n",
      "Edges 1: i:  7   1\n",
      "Edges 2: i:  7   4\n",
      "[2, 3, 2, 3, 2, 2, 3, 2]\n",
      "Edges 1: i:  8   0\n",
      "Edges 2: i:  8   2\n",
      "[2, 3, 2, 3, 2, 2, 3, 2, 5]\n",
      "Edges 1: i:  9   0\n",
      "Edges 2: i:  9   3\n",
      "[2, 3, 2, 3, 2, 2, 3, 2, 5, 4]\n",
      "Edges 1: i:  10   0\n",
      "Edges 2: i:  10   3\n",
      "[2, 3, 2, 3, 2, 2, 3, 2, 5, 4, 4]\n",
      "Edges 1: i:  11   1\n",
      "Edges 2: i:  11   3\n",
      "[2, 3, 2, 3, 2, 2, 3, 2, 5, 4, 4, 3]\n",
      "Edges 1: i:  12   1\n",
      "Edges 2: i:  12   2\n",
      "[2, 3, 2, 3, 2, 2, 3, 2, 5, 4, 4, 3, 4]\n",
      "Edges 1: i:  13   0\n",
      "Edges 2: i:  13   2\n",
      "[2, 3, 2, 3, 2, 2, 3, 2, 5, 4, 4, 3, 4, 5]\n",
      "Edges 1: i:  14   0\n",
      "Edges 2: i:  14   2\n",
      "[2, 3, 2, 3, 2, 2, 3, 2, 5, 4, 4, 3, 4, 5, 5]\n",
      "Edges 1: i:  15   0\n",
      "Edges 2: i:  15   2\n",
      "[2, 3, 2, 3, 2, 2, 3, 2, 5, 4, 4, 3, 4, 5, 5, 5]\n",
      "Edges 1: i:  16   0\n",
      "Edges 2: i:  16   3\n",
      "[2, 3, 2, 3, 2, 2, 3, 2, 5, 4, 4, 3, 4, 5, 5, 5, 4]\n",
      "Edges 1: i:  17   0\n",
      "Edges 2: i:  17   3\n",
      "[2, 3, 2, 3, 2, 2, 3, 2, 5, 4, 4, 3, 4, 5, 5, 5, 4, 4]\n",
      "Edges 1: i:  18   1\n",
      "Edges 2: i:  18   3\n",
      "[2, 3, 2, 3, 2, 2, 3, 2, 5, 4, 4, 3, 4, 5, 5, 5, 4, 4, 3]\n",
      "Edges 1: i:  19   1\n",
      "Edges 2: i:  19   3\n",
      "[2, 3, 2, 3, 2, 2, 3, 2, 5, 4, 4, 3, 4, 5, 5, 5, 4, 4, 3, 3]\n",
      "Edges 1: i:  20   1\n",
      "Edges 2: i:  20   4\n",
      "[2, 3, 2, 3, 2, 2, 3, 2, 5, 4, 4, 3, 4, 5, 5, 5, 4, 4, 3, 3, 2]\n",
      "Edges 1: i:  21   3\n",
      "Edges 2: i:  21   3\n",
      "[2, 3, 2, 3, 2, 2, 3, 2, 5, 4, 4, 3, 4, 5, 5, 5, 4, 4, 3, 3, 2, 1]\n",
      "Edges 1: i:  22   2\n",
      "Edges 2: i:  22   1\n",
      "[2, 3, 2, 3, 2, 2, 3, 2, 5, 4, 4, 3, 4, 5, 5, 5, 4, 4, 3, 3, 2, 1, 4]\n",
      "Edges 1: i:  23   1\n",
      "Edges 2: i:  23   1\n",
      "[2, 3, 2, 3, 2, 2, 3, 2, 5, 4, 4, 3, 4, 5, 5, 5, 4, 4, 3, 3, 2, 1, 4, 5]\n",
      "Edges 1: i:  24   1\n",
      "Edges 2: i:  24   1\n",
      "[2, 3, 2, 3, 2, 2, 3, 2, 5, 4, 4, 3, 4, 5, 5, 5, 4, 4, 3, 3, 2, 1, 4, 5, 5]\n",
      "Edges 1: i:  25   1\n",
      "Edges 2: i:  25   1\n",
      "[2, 3, 2, 3, 2, 2, 3, 2, 5, 4, 4, 3, 4, 5, 5, 5, 4, 4, 3, 3, 2, 1, 4, 5, 5, 5]\n",
      "Edges 1: i:  26   1\n",
      "Edges 2: i:  26   2\n",
      "[2, 3, 2, 3, 2, 2, 3, 2, 5, 4, 4, 3, 4, 5, 5, 5, 4, 4, 3, 3, 2, 1, 4, 5, 5, 5, 4]\n",
      "Edges 1: i:  27   1\n",
      "Edges 2: i:  27   2\n",
      "[2, 3, 2, 3, 2, 2, 3, 2, 5, 4, 4, 3, 4, 5, 5, 5, 4, 4, 3, 3, 2, 1, 4, 5, 5, 5, 4, 4]\n",
      "Edges 1: i:  28   1\n",
      "Edges 2: i:  28   1\n",
      "[2, 3, 2, 3, 2, 2, 3, 2, 5, 4, 4, 3, 4, 5, 5, 5, 4, 4, 3, 3, 2, 1, 4, 5, 5, 5, 4, 4, 5]\n",
      "Edges 1: i:  29   1\n",
      "Edges 2: i:  29   1\n",
      "[2, 3, 2, 3, 2, 2, 3, 2, 5, 4, 4, 3, 4, 5, 5, 5, 4, 4, 3, 3, 2, 1, 4, 5, 5, 5, 4, 4, 5, 5]\n",
      "Edges 1: i:  30   1\n",
      "Edges 2: i:  30   2\n",
      "[2, 3, 2, 3, 2, 2, 3, 2, 5, 4, 4, 3, 4, 5, 5, 5, 4, 4, 3, 3, 2, 1, 4, 5, 5, 5, 4, 4, 5, 5, 4]\n",
      "Edges 1: i:  31   2\n",
      "Edges 2: i:  31   1\n",
      "[2, 3, 2, 3, 2, 2, 3, 2, 5, 4, 4, 3, 4, 5, 5, 5, 4, 4, 3, 3, 2, 1, 4, 5, 5, 5, 4, 4, 5, 5, 4, 4]\n",
      "Edges 1: i:  32   1\n",
      "Edges 2: i:  32   1\n",
      "[2, 3, 2, 3, 2, 2, 3, 2, 5, 4, 4, 3, 4, 5, 5, 5, 4, 4, 3, 3, 2, 1, 4, 5, 5, 5, 4, 4, 5, 5, 4, 4, 5]\n",
      "Edges 1: i:  33   1\n",
      "Edges 2: i:  33   1\n",
      "[2, 3, 2, 3, 2, 2, 3, 2, 5, 4, 4, 3, 4, 5, 5, 5, 4, 4, 3, 3, 2, 1, 4, 5, 5, 5, 4, 4, 5, 5, 4, 4, 5, 5]\n",
      "Edges 1: i:  34   2\n",
      "Edges 2: i:  34   1\n",
      "[2, 3, 2, 3, 2, 2, 3, 2, 5, 4, 4, 3, 4, 5, 5, 5, 4, 4, 3, 3, 2, 1, 4, 5, 5, 5, 4, 4, 5, 5, 4, 4, 5, 5, 4]\n",
      "Edges 1: i:  35   2\n",
      "Edges 2: i:  35   1\n",
      "[2, 3, 2, 3, 2, 2, 3, 2, 5, 4, 4, 3, 4, 5, 5, 5, 4, 4, 3, 3, 2, 1, 4, 5, 5, 5, 4, 4, 5, 5, 4, 4, 5, 5, 4, 4]\n",
      "Edges 1: i:  36   1\n",
      "Edges 2: i:  36   1\n",
      "[2, 3, 2, 3, 2, 2, 3, 2, 5, 4, 4, 3, 4, 5, 5, 5, 4, 4, 3, 3, 2, 1, 4, 5, 5, 5, 4, 4, 5, 5, 4, 4, 5, 5, 4, 4, 5]\n",
      "Edges 1: i:  37   1\n",
      "Edges 2: i:  37   1\n",
      "[2, 3, 2, 3, 2, 2, 3, 2, 5, 4, 4, 3, 4, 5, 5, 5, 4, 4, 3, 3, 2, 1, 4, 5, 5, 5, 4, 4, 5, 5, 4, 4, 5, 5, 4, 4, 5, 5]\n",
      "Edges 1: i:  38   1\n",
      "Edges 2: i:  38   1\n",
      "[2, 3, 2, 3, 2, 2, 3, 2, 5, 4, 4, 3, 4, 5, 5, 5, 4, 4, 3, 3, 2, 1, 4, 5, 5, 5, 4, 4, 5, 5, 4, 4, 5, 5, 4, 4, 5, 5, 5]\n",
      "Edges 1: i:  39   1\n",
      "Edges 2: i:  39   2\n",
      "[2, 3, 2, 3, 2, 2, 3, 2, 5, 4, 4, 3, 4, 5, 5, 5, 4, 4, 3, 3, 2, 1, 4, 5, 5, 5, 4, 4, 5, 5, 4, 4, 5, 5, 4, 4, 5, 5, 5, 4]\n",
      "Edges 1: i:  40   3\n",
      "Edges 2: i:  40   3\n",
      "[2, 3, 2, 3, 2, 2, 3, 2, 5, 4, 4, 3, 4, 5, 5, 5, 4, 4, 3, 3, 2, 1, 4, 5, 5, 5, 4, 4, 5, 5, 4, 4, 5, 5, 4, 4, 5, 5, 5, 4, 1]\n"
     ]
    }
   ],
   "source": [
    "num_inter_edges=[]\n",
    "for i in range(len(first_community)):\n",
    "    print(\"Edges 1: i: \",i,\" \",num_intra_edges1[i])\n",
    "    print(\"Edges 2: i: \",i,\" \",num_intra_edges2[i])\n",
    "    num_inter_edges.append(e-num_intra_edges1[i]-num_intra_edges2[i])\n",
    "    print(num_inter_edges)"
   ]
  },
  {
   "cell_type": "code",
   "execution_count": 14,
   "metadata": {},
   "outputs": [
    {
     "name": "stdout",
     "output_type": "stream",
     "text": [
      "Intra edges 1:  0\n",
      "Intra edges 2:  5\n",
      "Inter edges  :  2\n",
      "2.5\n",
      "Intra edges 1:  0\n",
      "Intra edges 2:  4\n",
      "Inter edges  :  3\n",
      "1.3333333333333333\n",
      "Intra edges 1:  0\n",
      "Intra edges 2:  5\n",
      "Inter edges  :  2\n",
      "2.5\n",
      "Intra edges 1:  0\n",
      "Intra edges 2:  4\n",
      "Inter edges  :  3\n",
      "1.3333333333333333\n",
      "Intra edges 1:  0\n",
      "Intra edges 2:  5\n",
      "Inter edges  :  2\n",
      "2.5\n",
      "Intra edges 1:  0\n",
      "Intra edges 2:  5\n",
      "Inter edges  :  2\n",
      "2.5\n",
      "Intra edges 1:  1\n",
      "Intra edges 2:  3\n",
      "Inter edges  :  3\n",
      "1.3333333333333333\n",
      "Intra edges 1:  1\n",
      "Intra edges 2:  4\n",
      "Inter edges  :  2\n",
      "2.5\n",
      "Intra edges 1:  0\n",
      "Intra edges 2:  2\n",
      "Inter edges  :  5\n",
      "0.4\n",
      "Intra edges 1:  0\n",
      "Intra edges 2:  3\n",
      "Inter edges  :  4\n",
      "0.75\n",
      "Intra edges 1:  0\n",
      "Intra edges 2:  3\n",
      "Inter edges  :  4\n",
      "0.75\n",
      "Intra edges 1:  1\n",
      "Intra edges 2:  3\n",
      "Inter edges  :  3\n",
      "1.3333333333333333\n",
      "Intra edges 1:  1\n",
      "Intra edges 2:  2\n",
      "Inter edges  :  4\n",
      "0.75\n",
      "Intra edges 1:  0\n",
      "Intra edges 2:  2\n",
      "Inter edges  :  5\n",
      "0.4\n",
      "Intra edges 1:  0\n",
      "Intra edges 2:  2\n",
      "Inter edges  :  5\n",
      "0.4\n",
      "Intra edges 1:  0\n",
      "Intra edges 2:  2\n",
      "Inter edges  :  5\n",
      "0.4\n",
      "Intra edges 1:  0\n",
      "Intra edges 2:  3\n",
      "Inter edges  :  4\n",
      "0.75\n",
      "Intra edges 1:  0\n",
      "Intra edges 2:  3\n",
      "Inter edges  :  4\n",
      "0.75\n",
      "Intra edges 1:  1\n",
      "Intra edges 2:  3\n",
      "Inter edges  :  3\n",
      "1.3333333333333333\n",
      "Intra edges 1:  1\n",
      "Intra edges 2:  3\n",
      "Inter edges  :  3\n",
      "1.3333333333333333\n",
      "Intra edges 1:  1\n",
      "Intra edges 2:  4\n",
      "Inter edges  :  2\n",
      "2.5\n",
      "Intra edges 1:  3\n",
      "Intra edges 2:  3\n",
      "Inter edges  :  1\n",
      "6.0\n",
      "Intra edges 1:  2\n",
      "Intra edges 2:  1\n",
      "Inter edges  :  4\n",
      "0.75\n",
      "Intra edges 1:  1\n",
      "Intra edges 2:  1\n",
      "Inter edges  :  5\n",
      "0.4\n",
      "Intra edges 1:  1\n",
      "Intra edges 2:  1\n",
      "Inter edges  :  5\n",
      "0.4\n",
      "Intra edges 1:  1\n",
      "Intra edges 2:  1\n",
      "Inter edges  :  5\n",
      "0.4\n",
      "Intra edges 1:  1\n",
      "Intra edges 2:  2\n",
      "Inter edges  :  4\n",
      "0.75\n",
      "Intra edges 1:  1\n",
      "Intra edges 2:  2\n",
      "Inter edges  :  4\n",
      "0.75\n",
      "Intra edges 1:  1\n",
      "Intra edges 2:  1\n",
      "Inter edges  :  5\n",
      "0.4\n",
      "Intra edges 1:  1\n",
      "Intra edges 2:  1\n",
      "Inter edges  :  5\n",
      "0.4\n",
      "Intra edges 1:  1\n",
      "Intra edges 2:  2\n",
      "Inter edges  :  4\n",
      "0.75\n",
      "Intra edges 1:  2\n",
      "Intra edges 2:  1\n",
      "Inter edges  :  4\n",
      "0.75\n",
      "Intra edges 1:  1\n",
      "Intra edges 2:  1\n",
      "Inter edges  :  5\n",
      "0.4\n",
      "Intra edges 1:  1\n",
      "Intra edges 2:  1\n",
      "Inter edges  :  5\n",
      "0.4\n",
      "Intra edges 1:  2\n",
      "Intra edges 2:  1\n",
      "Inter edges  :  4\n",
      "0.75\n",
      "Intra edges 1:  2\n",
      "Intra edges 2:  1\n",
      "Inter edges  :  4\n",
      "0.75\n",
      "Intra edges 1:  1\n",
      "Intra edges 2:  1\n",
      "Inter edges  :  5\n",
      "0.4\n",
      "Intra edges 1:  1\n",
      "Intra edges 2:  1\n",
      "Inter edges  :  5\n",
      "0.4\n",
      "Intra edges 1:  1\n",
      "Intra edges 2:  1\n",
      "Inter edges  :  5\n",
      "0.4\n",
      "Intra edges 1:  1\n",
      "Intra edges 2:  2\n",
      "Inter edges  :  4\n",
      "0.75\n",
      "Intra edges 1:  3\n",
      "Intra edges 2:  3\n",
      "Inter edges  :  1\n",
      "6.0\n"
     ]
    }
   ],
   "source": [
    "ratio=[]\n",
    "for i in range(len(first_community)):\n",
    "    print(\"Intra edges 1: \",num_intra_edges1[i])\n",
    "    print(\"Intra edges 2: \",num_intra_edges2[i])\n",
    "    print(\"Inter edges  : \",num_inter_edges[i])\n",
    "    if num_inter_edges[i] > 0:\n",
    "        rat=(float)((num_intra_edges1[i]+num_intra_edges2[i])/(num_inter_edges[i]))\n",
    "        print(rat)\n",
    "        ratio.append((float)((num_intra_edges1[i]+num_intra_edges2[i])/(num_inter_edges[i])))\n",
    "    else:\n",
    "        ratio.append(-1)"
   ]
  },
  {
   "cell_type": "code",
   "execution_count": 15,
   "metadata": {},
   "outputs": [
    {
     "name": "stdout",
     "output_type": "stream",
     "text": [
      "Max value =  6.0\n",
      "Max index =  21\n"
     ]
    }
   ],
   "source": [
    "max_value=max(ratio)\n",
    "print(\"Max value = \", max_value)\n",
    "max_index=ratio.index(max_value)\n",
    "print(\"Max index = \",max_index)"
   ]
  },
  {
   "cell_type": "code",
   "execution_count": 16,
   "metadata": {},
   "outputs": [
    {
     "name": "stdout",
     "output_type": "stream",
     "text": [
      "First community max:  [1, 2, 3]\n",
      "Second community max: [4, 5, 6]\n"
     ]
    }
   ],
   "source": [
    "print(\"First community max: \",first_community[max_index])\n",
    "print(\"Second community max:\",second_community[max_index])"
   ]
  }
 ],
 "metadata": {
  "kernelspec": {
   "display_name": "Python 3",
   "language": "python",
   "name": "python3"
  },
  "language_info": {
   "codemirror_mode": {
    "name": "ipython",
    "version": 3
   },
   "file_extension": ".py",
   "mimetype": "text/x-python",
   "name": "python",
   "nbconvert_exporter": "python",
   "pygments_lexer": "ipython3",
   "version": "3.7.3"
  }
 },
 "nbformat": 4,
 "nbformat_minor": 2
}
