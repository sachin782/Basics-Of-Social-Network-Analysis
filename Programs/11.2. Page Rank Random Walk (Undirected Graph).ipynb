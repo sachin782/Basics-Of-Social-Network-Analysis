{
 "cells": [
  {
   "cell_type": "markdown",
   "metadata": {},
   "source": [
    "# Page Rank Random Walk (Undireceted Graph)"
   ]
  },
  {
   "cell_type": "code",
   "execution_count": 1,
   "metadata": {},
   "outputs": [],
   "source": [
    "import networkx as nx\n",
    "import matplotlib.pyplot as plt\n",
    "import random\n",
    "import numpy as np\n",
    "from random import choice"
   ]
  },
  {
   "cell_type": "code",
   "execution_count": 2,
   "metadata": {},
   "outputs": [
    {
     "name": "stderr",
     "output_type": "stream",
     "text": [
      "C:\\Users\\Sachin\\Anaconda3\\lib\\site-packages\\networkx\\drawing\\nx_pylab.py:579: MatplotlibDeprecationWarning: \n",
      "The iterable function was deprecated in Matplotlib 3.1 and will be removed in 3.3. Use np.iterable instead.\n",
      "  if not cb.iterable(width):\n"
     ]
    },
    {
     "data": {
      "image/png": "[encoded data removed]",
      "text/plain": [
       "<Figure size 432x288 with 1 Axes>"
      ]
     },
     "metadata": {},
     "output_type": "display_data"
    }
   ],
   "source": [
    "G = nx.Graph()\n",
    "G.add_edge(0,1)\n",
    "G.add_edge(0,2)\n",
    "G.add_edge(1,2)\n",
    "G.add_edge(1,3)\n",
    "G.add_edge(2,3)\n",
    "G.add_edge(2,4)\n",
    "G.add_edge(2,5)\n",
    "G.add_edge(3,4)\n",
    "G.add_edge(4,5)\n",
    "nx.draw(G,pos = nx.circular_layout(G),with_labels=True)\n",
    "plt.show()"
   ]
  },
  {
   "cell_type": "code",
   "execution_count": 3,
   "metadata": {},
   "outputs": [],
   "source": [
    "def random_walk(G):\n",
    "    nodes=G.nodes()\n",
    "    print(nodes)\n",
    "    print(\"Node Type: \",type(nodes))\n",
    "    RW_points=[0 for i in range(G.number_of_nodes())]\n",
    "    r=random.choice(list(nodes))\n",
    "    print(\"r: \",r)\n",
    "    RW_points[r] += 1\n",
    "    out=G.edges(r)\n",
    "    c=0\n",
    "    while(c != 100000):\n",
    "        if(len(out)==0):\n",
    "            focus=random.choice(list(r))\n",
    "        else:\n",
    "            r1=random.choice(list(out))\n",
    "            focus=r1[1]\n",
    "        RW_points[focus]+=1\n",
    "        out=G.edges(focus)\n",
    "        c+=1\n",
    "    return RW_points"
   ]
  },
  {
   "cell_type": "markdown",
   "metadata": {},
   "source": [
    "Perform Random Walk."
   ]
  },
  {
   "cell_type": "code",
   "execution_count": 4,
   "metadata": {},
   "outputs": [
    {
     "name": "stdout",
     "output_type": "stream",
     "text": [
      "[0, 1, 2, 3, 4, 5]\n",
      "Node Type:  <class 'networkx.classes.reportviews.NodeView'>\n",
      "r:  3\n",
      "Random Walk Points:  [10983, 16528, 27650, 16769, 16855, 11216]\n"
     ]
    }
   ],
   "source": [
    "RW_points=random_walk(G)\n",
    "print(\"Random Walk Points: \",RW_points)"
   ]
  },
  {
   "cell_type": "code",
   "execution_count": 5,
   "metadata": {},
   "outputs": [],
   "source": [
    "def get_nodes_sorted_by_points(RW_points):\n",
    "    points_array=np.array(RW_points)\n",
    "    nodes_sorted_by_points=np.argsort(-points_array)\n",
    "    return nodes_sorted_by_points"
   ]
  },
  {
   "cell_type": "code",
   "execution_count": 6,
   "metadata": {},
   "outputs": [
    {
     "name": "stdout",
     "output_type": "stream",
     "text": [
      "New points:  [10983, 16528, 27650, 16769, 16855, 11216]\n",
      "Nodes sorted after some iteration:  [2 4 3 1 5 0]\n"
     ]
    }
   ],
   "source": [
    "print(\"New points: \", RW_points)\n",
    "nodes_sorted_by_points=get_nodes_sorted_by_points(RW_points)\n",
    "print(\"Nodes sorted after some iteration: \",nodes_sorted_by_points)"
   ]
  },
  {
   "cell_type": "code",
   "execution_count": 7,
   "metadata": {},
   "outputs": [
    {
     "name": "stdout",
     "output_type": "stream",
     "text": [
      "Page rank:  [(2, 0.26621269862391406), (4, 0.16692136626673557), (1, 0.16692136626673554), (3, 0.16484427006519495), (0, 0.11755014938870981), (5, 0.11755014938870978)]\n",
      "Sorted list:  [2, 4, 1, 3, 0, 5]\n"
     ]
    }
   ],
   "source": [
    "pr=nx.pagerank(G)\n",
    "pr_sorted=sorted(pr.items(),key=lambda x:x[1], reverse=True)\n",
    "print(\"Page rank: \",pr_sorted)\n",
    "pr_list=[]\n",
    "for i in pr_sorted:\n",
    "    pr_list.append(i[0])\n",
    "print(\"Sorted list: \",pr_list)"
   ]
  }
 ],
 "metadata": {
  "kernelspec": {
   "display_name": "Python 3",
   "language": "python",
   "name": "python3"
  },
  "language_info": {
   "codemirror_mode": {
    "name": "ipython",
    "version": 3
   },
   "file_extension": ".py",
   "mimetype": "text/x-python",
   "name": "python",
   "nbconvert_exporter": "python",
   "pygments_lexer": "ipython3",
   "version": "3.7.3"
  }
 },
 "nbformat": 4,
 "nbformat_minor": 2
}
